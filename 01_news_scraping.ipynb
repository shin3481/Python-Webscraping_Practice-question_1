{
 "cells": [
  {
   "cell_type": "code",
   "execution_count": 32,
   "id": "b3b3f44b",
   "metadata": {},
   "outputs": [
    {
     "name": "stdout",
     "output_type": "stream",
     "text": [
      "https://news.daum.net/economy\n",
      "<class 'requests.models.Response'>\n",
      "200\n",
      "<class 'bs4.element.ResultSet'> 9\n",
      "https://v.daum.net/v/20250722181057244\n",
      "꾸준히 강세 흐름 보이는 메이저 알트코인들 : 코리안 크립토 위클리 [INFCL 리서치]\n",
      "https://v.daum.net/v/20250722175548581\n",
      "세계시장 제패한 K뷰티·푸드…'첨단' 아니라며 R&D지원은 쥐꼬리\n",
      "https://v.daum.net/v/20250722175106335\n",
      "백만이상 日도시 100년뒤 11개→4개 ‘뚝’...“韓 소멸속도 더 빨라”\n",
      "https://v.daum.net/v/20250722174746199\n",
      "예금자보호 1억 시대…내 돈 어디에 맡길까?\n",
      "https://v.daum.net/v/20250722174241984\n",
      "전재수 해수 후보자 조선업 '신경전'에 김정관 산업장관 '신중론'\n",
      "https://v.daum.net/v/20250722171546881\n",
      "식재료비 뛰고 사장님은 늙고…동네 백반집이 사라진다\n",
      "https://v.daum.net/v/20250722171502827\n",
      "“흑자 전환 노린다” 국내외 의료 AI, 실적 경쟁 치열\n",
      "https://v.daum.net/v/20250722164636610\n",
      "한국블록체인스타트업협회 조원희 회장 취임…산업 융합과 글로벌 진출의 ‘종합 허브’ 선언\n",
      "https://v.daum.net/v/20250722164503546\n",
      "범여권 '자사주 소각 의무화' 공세에…野 '포이즌필 제도화' 맞대응\n"
     ]
    }
   ],
   "source": [
    "import requests\n",
    "from bs4 import BeautifulSoup\n",
    "url = 'https://news.daum.net/economy'\n",
    "print(url)\n",
    "req_header = {\n",
    "\n",
    "    \"user-agent\": \"Mozilla/5.0 (Windows NT 10.0; Win64; x64) AppleWebKit/537.36 (KHTML, like Gecko) Chrome/138.0.0.0 Safari/537.36\" \n",
    "}\n",
    "res = requests.get(url,headers=req_header)\n",
    "print(type(res))\n",
    "print(res.status_code)\n",
    "if (res.ok):\n",
    "    res.encoding = 'utf-8'  # 한글 인코딩 설정 추가\n",
    "    html = res.text\n",
    "    soup = BeautifulSoup(html,\"html.parser\")\n",
    "    li_tags = soup.select('ul.list_newsheadline2 li')\n",
    "    \n",
    "    print(f'{type(li_tags)} {len(li_tags)}')\n",
    "    for li_tag in li_tags:\n",
    "        \n",
    "        a_tag = li_tag.find('a')\n",
    "        \n",
    "        link = a_tag['href']\t\n",
    "            \n",
    "        strong_tag = li_tag.select_one('div.cont_thumb strong.tit_txt')\n",
    "        title = strong_tag.text\n",
    "        print(link)\n",
    "        print(title)\n",
    "\n"
   ]
  }
 ],
 "metadata": {
  "kernelspec": {
   "display_name": "base",
   "language": "python",
   "name": "python3"
  },
  "language_info": {
   "codemirror_mode": {
    "name": "ipython",
    "version": 3
   },
   "file_extension": ".py",
   "mimetype": "text/x-python",
   "name": "python",
   "nbconvert_exporter": "python",
   "pygments_lexer": "ipython3",
   "version": "3.12.7"
  }
 },
 "nbformat": 4,
 "nbformat_minor": 5
}
