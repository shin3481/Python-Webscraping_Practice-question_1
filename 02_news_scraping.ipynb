{
 "cells": [
  {
   "cell_type": "code",
   "execution_count": null,
   "id": "4929b3dd",
   "metadata": {},
   "outputs": [],
   "source": [
    "import requests\n",
    "from bs4 import BeautifulSoup\n",
    "\n",
    "section_dict = {'기후/환경':'climate','사회':'society','경제':'economy',\n",
    "                '정치':'politics','국제':'world','문화':'culture',\n",
    "                '생활':'life','IT/과학':'tech','인물':'people'}\n",
    "\n",
    "# 함수선언\n",
    "def print_news(section_name):\n",
    "    \n",
    "    sid = section_dict[section_name]\n",
    "    url = f'https://news.daum.net/{sid}'\n",
    "    req_header = {\n",
    "        #봇이아닌 사람이 사용하는거로 보여지게 하는 표식\n",
    "        \"user-agent\": \"Mozilla/5.0 (Windows NT 10.0; Win64; x64) AppleWebKit/537.36 (KHTML, like Gecko) Chrome/138.0.0.0 Safari/537.36\" \n",
    "    }\n",
    "    res = requests.get(url,headers=req_header)\n",
    "    res.encoding = 'utf-8'  # 한글 인코딩 설정 추가\n",
    "    if(res.ok):\n",
    "        print(f'======> {url} {section_name} 뉴스 <======')\n",
    "        html = res.text\n",
    "        soup = BeautifulSoup(html,'html.parser')\n",
    "        li_tags = soup.select(\"ul.list_newsheadline2 li \")\n",
    "        for li_tag in li_tags:\n",
    "            a_tag =  li_tag.find('a')\n",
    "            link = a_tag['href']\n",
    "            \n",
    "            strong_tag = li_tag.select_one('div.cont_thumb strong.tit_txt')\n",
    "            title = strong_tag.text\n",
    "            print(link)\n",
    "            print(title)\n",
    "        print()\n",
    "    else:\n",
    "        print(f'Error Code = {res.status_code}')\n"
   ]
  },
  {
   "cell_type": "code",
   "execution_count": 38,
   "id": "52f8e549",
   "metadata": {},
   "outputs": [
    {
     "name": "stdout",
     "output_type": "stream",
     "text": [
      "======> https://news.daum.net/economy 경제 뉴스 <======\n",
      "https://v.daum.net/v/20250722190900992\n",
      "경제통상 외교수장들, 대거 미국행... 관세 타결·한미정상회담 열릴까\n",
      "https://v.daum.net/v/20250722185103483\n",
      "퇴근하면 시작된다...유통업계 다시 불붙은 '6시 쇼핑' 전쟁\n",
      "https://v.daum.net/v/20250722183143976\n",
      "“자율주행, 이동약자 지원하는 ‘공공성’에 초점 맞춰야”\n",
      "https://v.daum.net/v/20250722181057244\n",
      "꾸준히 강세 흐름 보이는 메이저 알트코인들 : 코리안 크립토 위클리 [INFCL 리서치]\n",
      "https://v.daum.net/v/20250722175548581\n",
      "세계시장 제패한 K뷰티·푸드…'첨단' 아니라며 R&D지원은 쥐꼬리\n",
      "https://v.daum.net/v/20250722174746199\n",
      "예금자보호 1억 시대…내 돈 어디에 맡길까?\n",
      "https://v.daum.net/v/20250722174241984\n",
      "전재수 해수 후보자 조선업 '신경전'에 김정관 산업장관 '신중론'\n",
      "https://v.daum.net/v/20250722171546881\n",
      "식재료비 뛰고 사장님은 늙고…동네 백반집이 사라진다\n",
      "https://v.daum.net/v/20250722171502827\n",
      "“흑자 전환 노린다” 국내외 의료 AI, 실적 경쟁 치열\n",
      "\n",
      "======> https://news.daum.net/people 인물 뉴스 <======\n",
      "https://v.daum.net/v/20250722184640374\n",
      "[인터뷰…공감] “러브버그와 공존 방법 찾겠다” 박선재 국립생물자원관 연구관\n",
      "https://v.daum.net/v/20250722175908739\n",
      "[인터뷰] 홍덕기 부산체중·고 사이클팀 감독 “올해 상반기 상승세 이어나가 전국 최강팀 발돋움할 것”\n",
      "https://v.daum.net/v/20250722110743169\n",
      "[청년이 돌아왔다, 귀향시대] (20·끝) 이제는 귀향 아닌 정착\n",
      "https://v.daum.net/v/20250722060027468\n",
      "[예술가의 방] 도자공예가 편예린 | 전원생활\n",
      "https://v.daum.net/v/20250722050313918\n",
      "\"여행은 내 경계 확인하는 경험\"…휠체어 타고 세계 누빈 유튜버\n",
      "https://v.daum.net/v/20250722030327266\n",
      "“가상 K팝 아이돌, BTS도 못가본 경지 올라”\n",
      "https://v.daum.net/v/20250721231059957\n",
      "[이헌재의 인생홈런]LG 우승 이끈 조상현 “반려견 ‘조던’ 있었기에 가능”\n",
      "https://v.daum.net/v/20250721181508481\n",
      "\"자리의 명예보다 책임이 먼저\" 97세 학자의 '인생 철학'\n",
      "https://v.daum.net/v/20250721172100058\n",
      "\"책 한 권이 도시를 잇는다…예산 없이도 계속되는 17년의 독서운동\"\n",
      "https://v.daum.net/v/20250722043157507\n",
      "[가만한 당신] 아이의 열정으로 일식을 쫓은 \"아마추어\" NASA 과학자\n",
      "https://v.daum.net/v/20250721183651189\n",
      "고미술-현대미술 관통하는 ‘조형정신’ 읽어냈던 컬렉터\n",
      "https://v.daum.net/v/20250716050208639\n",
      "‘조수미를 픽업한 지휘자의 대명사’ 헤르베르트 폰 카라얀[신문에서 찾았다 오늘 별이 된 사람]\n",
      "https://v.daum.net/v/20250714184637316\n",
      "조작간첩 50년 만의 무죄 “동지들 곁에서 외롭지 않겠죠”\n",
      "https://v.daum.net/v/20250713193144618\n",
      "“박창희 교수, 50년대 재일동포 차별에 평생 민족 문제 파고들어”\n",
      "https://v.daum.net/v/20250722184640374\n",
      "[인터뷰…공감] “러브버그와 공존 방법 찾겠다” 박선재 국립생물자원관 연구관\n",
      "\n"
     ]
    }
   ],
   "source": [
    "# 함수호출\n",
    "print_news('경제')\n",
    "print_news('인물')\n"
   ]
  },
  {
   "cell_type": "code",
   "execution_count": null,
   "id": "f593e475",
   "metadata": {},
   "outputs": [],
   "source": []
  }
 ],
 "metadata": {
  "kernelspec": {
   "display_name": "base",
   "language": "python",
   "name": "python3"
  },
  "language_info": {
   "codemirror_mode": {
    "name": "ipython",
    "version": 3
   },
   "file_extension": ".py",
   "mimetype": "text/x-python",
   "name": "python",
   "nbconvert_exporter": "python",
   "pygments_lexer": "ipython3",
   "version": "3.12.7"
  }
 },
 "nbformat": 4,
 "nbformat_minor": 5
}
